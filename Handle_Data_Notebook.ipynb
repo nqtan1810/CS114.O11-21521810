{
  "cells": [
    {
      "cell_type": "code",
      "execution_count": null,
      "metadata": {
        "id": "Uze9pGaaWnC3"
      },
      "outputs": [],
      "source": [
        "!sudo apt install tesseract-ocr"
      ]
    },
    {
      "cell_type": "code",
      "execution_count": null,
      "metadata": {
        "id": "8fDHrB1wW0IL"
      },
      "outputs": [],
      "source": [
        "!pip install pytesseract"
      ]
    },
    {
      "cell_type": "code",
      "execution_count": 3,
      "metadata": {
        "id": "QS7tojPzW3yS"
      },
      "outputs": [],
      "source": [
        "import pytesseract\n",
        "import cv2\n",
        "import numpy as np"
      ]
    },
    {
      "cell_type": "code",
      "execution_count": null,
      "metadata": {
        "id": "0yZjshCSZy2O"
      },
      "outputs": [],
      "source": [
        "!sudo apt install tesseract-ocr-vie"
      ]
    },
    {
      "cell_type": "markdown",
      "metadata": {
        "id": "L9I7NzGsUd0R"
      },
      "source": [
        "For example, here we download and display a PNG image of the Colab logo:"
      ]
    },
    {
      "cell_type": "code",
      "execution_count": 5,
      "metadata": {
        "id": "xCFcNM3EdJ9F"
      },
      "outputs": [],
      "source": [
        "from google.colab.patches import cv2_imshow"
      ]
    },
    {
      "cell_type": "code",
      "execution_count": 6,
      "metadata": {
        "id": "3tofAJ_XXOS9"
      },
      "outputs": [],
      "source": [
        "def process_img (image):\n",
        "  image= cv2.cvtColor(image, cv2.COLOR_BGR2GRAY)\n",
        "  image= cv2.bitwise_not(image)\n",
        " # thre, image= cv2.threshold(image, 100, 90, cv2.THRESH_BINARY)\n",
        "  kernel = np.ones((2, 2), np.uint8)\n",
        "  image = cv2.dilate(image, kernel, iterations=1)\n",
        "  image = cv2.erode(image, kernel, iterations=1)\n",
        "  return image\n"
      ]
    },
    {
      "cell_type": "code",
      "execution_count": 7,
      "metadata": {
        "id": "v0UEhrMTZkt8"
      },
      "outputs": [],
      "source": [
        "def box_text (image_path, d_):\n",
        "  global t\n",
        "  image = cv2.imread(image_path)\n",
        "  image = process_img(image)\n",
        "  height, width = image.shape\n",
        "  image_center = (width / 2, height / 2)\n",
        "  min_distance = float('inf')\n",
        "  center_box = None\n",
        "  d = pytesseract.image_to_data(image, output_type=pytesseract.Output.DICT)\n",
        "  box = []\n",
        "  boxes_with_distances = []\n",
        "  c = 0\n",
        "  n_boxes = len(d['level'])\n",
        "  for i in range(n_boxes):\n",
        "        if d['level'][i] == 2:\n",
        "          (x, y, w, h) = (d['left'][i], d['top'][i], d['width'][i], d['height'][i])\n",
        "          box.append((x, y, w, h))\n",
        "          text = f'Box {c+1}'\n",
        "          c+=1\n",
        "          t+=1\n",
        "          box_center = (x + w / 2, y + h / 2)\n",
        "          distance = np.sqrt((box_center[0] - image_center[0])**2 + (box_center[1] - image_center[1])**2)\n",
        "          boxes_with_distances.append(((x, y, w, h), distance))\n",
        "          cv2.putText(image, text, (x, y - 10), cv2.FONT_HERSHEY_SIMPLEX, 1.5, (255, 255, 255), 5)\n",
        "          cv2.rectangle(image, (x, y), (x + w, y + h), (255, 0, 0), 2)\n",
        "          fo_.write(str(t)+' '+str(d_) +'\\n')\n",
        "          fo.write(('box'+ str(c)).ljust(8, ' ')+str(x).ljust(8, ' ')+str(y).ljust(8, ' ')+str(w).ljust(8, ' ')+str(h).ljust(8, ' ')+str(w*h).ljust(8, ' ')+ ' 0'.ljust(8, ' ')+ '0'.ljust(8, ' ') + '\\n')\n",
        "          print ('box'+ str(c), ((x, y, w, h)), w*h)\n",
        "\n",
        "\n",
        "  boxes_with_distances.sort(key=lambda x: x[1])\n",
        "\n",
        "# Lấy 3 hộp gần trung tâm nhất\n",
        "  closest_boxes = boxes_with_distances[:3]\n",
        "\n",
        "  for box in closest_boxes:\n",
        "      x, y, w, h = box[0]\n",
        "      cv2.rectangle(image, (x, y), (x + w, y + h), (255, 0, 0), 12)  # Sử dụng màu đỏ để phân biệt\n",
        "  cv2_imshow(image)\n"
      ]
    },
    {
      "cell_type": "code",
      "execution_count": null,
      "metadata": {
        "id": "xnChhlgbaN76"
      },
      "outputs": [],
      "source": [
        "import pytesseract\n",
        "t= 0\n",
        "fo = open('/content/dataset.txt', 'w')\n",
        "fo_ = open('/content/map.txt', 'w')\n",
        "for i in range (16, 51):\n",
        "  fo.write('---------img'+str(i)+'----------'+'\\n')\n",
        "  image_path = '/content/img ('+str(i)+').JPG'\n",
        "  print(image_path)\n",
        "  box_text (image_path, i)\n",
        "fo_.close()\n",
        "fo.close()"
      ]
    }
  ],
  "metadata": {
    "accelerator": "GPU",
    "colab": {
      "provenance": [],
      "gpuType": "T4"
    },
    "kernelspec": {
      "display_name": "Python 3",
      "name": "python3"
    },
    "language_info": {
      "name": "python"
    }
  },
  "nbformat": 4,
  "nbformat_minor": 0
}